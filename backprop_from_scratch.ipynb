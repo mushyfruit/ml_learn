{
 "cells": [
  {
   "cell_type": "code",
   "execution_count": 3,
   "outputs": [],
   "source": [
    "import numpy as np\n",
    "import pandas as pd\n",
    "from matplotlib import pyplot as plt"
   ],
   "metadata": {
    "collapsed": false
   }
  },
  {
   "cell_type": "code",
   "execution_count": 4,
   "metadata": {
    "collapsed": true
   },
   "outputs": [
    {
     "name": "stdout",
     "output_type": "stream",
     "text": [
      "<class 'pandas.core.frame.DataFrame'>\n"
     ]
    }
   ],
   "source": [
    "data = pd.read_csv(\"C:\\\\Users\\\\andre\\\\Documents\\\\datasets\\\\train.csv\")\n",
    "print(type(data))"
   ]
  },
  {
   "cell_type": "code",
   "execution_count": 5,
   "outputs": [
    {
     "data": {
      "text/plain": "   label  1x1  1x2  1x3  1x4  1x5  1x6  1x7  1x8  1x9  ...  28x19  28x20   \n0      5    0    0    0    0    0    0    0    0    0  ...      0      0  \\\n1      0    0    0    0    0    0    0    0    0    0  ...      0      0   \n2      4    0    0    0    0    0    0    0    0    0  ...      0      0   \n3      1    0    0    0    0    0    0    0    0    0  ...      0      0   \n4      9    0    0    0    0    0    0    0    0    0  ...      0      0   \n5      2    0    0    0    0    0    0    0    0    0  ...      0      0   \n6      1    0    0    0    0    0    0    0    0    0  ...      0      0   \n7      3    0    0    0    0    0    0    0    0    0  ...      0      0   \n8      1    0    0    0    0    0    0    0    0    0  ...      0      0   \n9      4    0    0    0    0    0    0    0    0    0  ...      0      0   \n\n   28x21  28x22  28x23  28x24  28x25  28x26  28x27  28x28  \n0      0      0      0      0      0      0      0      0  \n1      0      0      0      0      0      0      0      0  \n2      0      0      0      0      0      0      0      0  \n3      0      0      0      0      0      0      0      0  \n4      0      0      0      0      0      0      0      0  \n5      0      0      0      0      0      0      0      0  \n6      0      0      0      0      0      0      0      0  \n7      0      0      0      0      0      0      0      0  \n8      0      0      0      0      0      0      0      0  \n9      0      0      0      0      0      0      0      0  \n\n[10 rows x 785 columns]",
      "text/html": "<div>\n<style scoped>\n    .dataframe tbody tr th:only-of-type {\n        vertical-align: middle;\n    }\n\n    .dataframe tbody tr th {\n        vertical-align: top;\n    }\n\n    .dataframe thead th {\n        text-align: right;\n    }\n</style>\n<table border=\"1\" class=\"dataframe\">\n  <thead>\n    <tr style=\"text-align: right;\">\n      <th></th>\n      <th>label</th>\n      <th>1x1</th>\n      <th>1x2</th>\n      <th>1x3</th>\n      <th>1x4</th>\n      <th>1x5</th>\n      <th>1x6</th>\n      <th>1x7</th>\n      <th>1x8</th>\n      <th>1x9</th>\n      <th>...</th>\n      <th>28x19</th>\n      <th>28x20</th>\n      <th>28x21</th>\n      <th>28x22</th>\n      <th>28x23</th>\n      <th>28x24</th>\n      <th>28x25</th>\n      <th>28x26</th>\n      <th>28x27</th>\n      <th>28x28</th>\n    </tr>\n  </thead>\n  <tbody>\n    <tr>\n      <th>0</th>\n      <td>5</td>\n      <td>0</td>\n      <td>0</td>\n      <td>0</td>\n      <td>0</td>\n      <td>0</td>\n      <td>0</td>\n      <td>0</td>\n      <td>0</td>\n      <td>0</td>\n      <td>...</td>\n      <td>0</td>\n      <td>0</td>\n      <td>0</td>\n      <td>0</td>\n      <td>0</td>\n      <td>0</td>\n      <td>0</td>\n      <td>0</td>\n      <td>0</td>\n      <td>0</td>\n    </tr>\n    <tr>\n      <th>1</th>\n      <td>0</td>\n      <td>0</td>\n      <td>0</td>\n      <td>0</td>\n      <td>0</td>\n      <td>0</td>\n      <td>0</td>\n      <td>0</td>\n      <td>0</td>\n      <td>0</td>\n      <td>...</td>\n      <td>0</td>\n      <td>0</td>\n      <td>0</td>\n      <td>0</td>\n      <td>0</td>\n      <td>0</td>\n      <td>0</td>\n      <td>0</td>\n      <td>0</td>\n      <td>0</td>\n    </tr>\n    <tr>\n      <th>2</th>\n      <td>4</td>\n      <td>0</td>\n      <td>0</td>\n      <td>0</td>\n      <td>0</td>\n      <td>0</td>\n      <td>0</td>\n      <td>0</td>\n      <td>0</td>\n      <td>0</td>\n      <td>...</td>\n      <td>0</td>\n      <td>0</td>\n      <td>0</td>\n      <td>0</td>\n      <td>0</td>\n      <td>0</td>\n      <td>0</td>\n      <td>0</td>\n      <td>0</td>\n      <td>0</td>\n    </tr>\n    <tr>\n      <th>3</th>\n      <td>1</td>\n      <td>0</td>\n      <td>0</td>\n      <td>0</td>\n      <td>0</td>\n      <td>0</td>\n      <td>0</td>\n      <td>0</td>\n      <td>0</td>\n      <td>0</td>\n      <td>...</td>\n      <td>0</td>\n      <td>0</td>\n      <td>0</td>\n      <td>0</td>\n      <td>0</td>\n      <td>0</td>\n      <td>0</td>\n      <td>0</td>\n      <td>0</td>\n      <td>0</td>\n    </tr>\n    <tr>\n      <th>4</th>\n      <td>9</td>\n      <td>0</td>\n      <td>0</td>\n      <td>0</td>\n      <td>0</td>\n      <td>0</td>\n      <td>0</td>\n      <td>0</td>\n      <td>0</td>\n      <td>0</td>\n      <td>...</td>\n      <td>0</td>\n      <td>0</td>\n      <td>0</td>\n      <td>0</td>\n      <td>0</td>\n      <td>0</td>\n      <td>0</td>\n      <td>0</td>\n      <td>0</td>\n      <td>0</td>\n    </tr>\n    <tr>\n      <th>5</th>\n      <td>2</td>\n      <td>0</td>\n      <td>0</td>\n      <td>0</td>\n      <td>0</td>\n      <td>0</td>\n      <td>0</td>\n      <td>0</td>\n      <td>0</td>\n      <td>0</td>\n      <td>...</td>\n      <td>0</td>\n      <td>0</td>\n      <td>0</td>\n      <td>0</td>\n      <td>0</td>\n      <td>0</td>\n      <td>0</td>\n      <td>0</td>\n      <td>0</td>\n      <td>0</td>\n    </tr>\n    <tr>\n      <th>6</th>\n      <td>1</td>\n      <td>0</td>\n      <td>0</td>\n      <td>0</td>\n      <td>0</td>\n      <td>0</td>\n      <td>0</td>\n      <td>0</td>\n      <td>0</td>\n      <td>0</td>\n      <td>...</td>\n      <td>0</td>\n      <td>0</td>\n      <td>0</td>\n      <td>0</td>\n      <td>0</td>\n      <td>0</td>\n      <td>0</td>\n      <td>0</td>\n      <td>0</td>\n      <td>0</td>\n    </tr>\n    <tr>\n      <th>7</th>\n      <td>3</td>\n      <td>0</td>\n      <td>0</td>\n      <td>0</td>\n      <td>0</td>\n      <td>0</td>\n      <td>0</td>\n      <td>0</td>\n      <td>0</td>\n      <td>0</td>\n      <td>...</td>\n      <td>0</td>\n      <td>0</td>\n      <td>0</td>\n      <td>0</td>\n      <td>0</td>\n      <td>0</td>\n      <td>0</td>\n      <td>0</td>\n      <td>0</td>\n      <td>0</td>\n    </tr>\n    <tr>\n      <th>8</th>\n      <td>1</td>\n      <td>0</td>\n      <td>0</td>\n      <td>0</td>\n      <td>0</td>\n      <td>0</td>\n      <td>0</td>\n      <td>0</td>\n      <td>0</td>\n      <td>0</td>\n      <td>...</td>\n      <td>0</td>\n      <td>0</td>\n      <td>0</td>\n      <td>0</td>\n      <td>0</td>\n      <td>0</td>\n      <td>0</td>\n      <td>0</td>\n      <td>0</td>\n      <td>0</td>\n    </tr>\n    <tr>\n      <th>9</th>\n      <td>4</td>\n      <td>0</td>\n      <td>0</td>\n      <td>0</td>\n      <td>0</td>\n      <td>0</td>\n      <td>0</td>\n      <td>0</td>\n      <td>0</td>\n      <td>0</td>\n      <td>...</td>\n      <td>0</td>\n      <td>0</td>\n      <td>0</td>\n      <td>0</td>\n      <td>0</td>\n      <td>0</td>\n      <td>0</td>\n      <td>0</td>\n      <td>0</td>\n      <td>0</td>\n    </tr>\n  </tbody>\n</table>\n<p>10 rows × 785 columns</p>\n</div>"
     },
     "execution_count": 5,
     "metadata": {},
     "output_type": "execute_result"
    }
   ],
   "source": [
    "data.head(10)"
   ],
   "metadata": {
    "collapsed": false
   }
  },
  {
   "cell_type": "code",
   "execution_count": 6,
   "outputs": [],
   "source": [
    "# Can handle just being passed a Pandas Dataframe directly.\n",
    "data = np.array(data)\n",
    "m, n = data.shape\n",
    "np.random.shuffle(data)"
   ],
   "metadata": {
    "collapsed": false
   }
  },
  {
   "cell_type": "code",
   "execution_count": 7,
   "outputs": [],
   "source": [
    "data_dev = data[0:1000].T\n",
    "y_dev = data_dev[0]\n",
    "x_dev = data_dev[1:n]\n",
    "x_dev = x_dev / 255."
   ],
   "metadata": {
    "collapsed": false
   }
  },
  {
   "cell_type": "code",
   "execution_count": 8,
   "outputs": [],
   "source": [
    "data_train = data[1000:m].T\n",
    "y_train = data_train[0]\n",
    "x_train = data_train[1:n]\n",
    "x_train = x_train / 255."
   ],
   "metadata": {
    "collapsed": false
   }
  },
  {
   "cell_type": "code",
   "execution_count": 23,
   "outputs": [],
   "source": [
    "# initialize the parameters\n",
    "def init_params():\n",
    "    w1 = np.random.randn(10, 784) * np.sqrt(1/784)\n",
    "    b1 = np.random.randn(10, 1)\n",
    "    w2 = np.random.randn(10, 10) * np.sqrt(1/10)\n",
    "    b2 = np.random.randn(10, 1)\n",
    "    return w1, b1, w2, b2"
   ],
   "metadata": {
    "collapsed": false
   }
  },
  {
   "cell_type": "code",
   "execution_count": 24,
   "outputs": [],
   "source": [
    "def relu(z):\n",
    "    return np.maximum(z, 0)\n",
    "\n",
    "def swish(z):\n",
    "    return z * sigmoid(z)\n",
    "\n",
    "def sigmoid(z):\n",
    "    return 1 / (1+np.exp(-z))\n",
    "\n",
    "def softmax(z):\n",
    "    return np.exp(z) / sum(np.exp(z))\n",
    "\n",
    "def forward_prop(w1, b1, w2, b2, X):\n",
    "    z1 = w1.dot(X) + b1\n",
    "    a1 = relu(z1)\n",
    "    z2 = w2.dot(a1) + b2\n",
    "    a2 = softmax(z2)\n",
    "    return z1, a1, z2, a2\n",
    "\n",
    "def one_hot(y):\n",
    "    one_hot_y = np.zeros((y.size, y.max() + 1))\n",
    "    one_hot_y[np.arange(y.size), y] = 1\n",
    "    one_hot_y = one_hot_y.T\n",
    "    return one_hot_y"
   ],
   "metadata": {
    "collapsed": false
   }
  },
  {
   "cell_type": "code",
   "execution_count": 25,
   "outputs": [],
   "source": [
    "def deriv_relu(z):\n",
    "    return z > 0\n",
    "\n",
    "def deriv_swish(z):\n",
    "    return sigmoid(z) + z * sigmoid(z) * (1-sigmoid(z))\n",
    "\n",
    "def backprop(z1, a1, z2, a2, w2, x, y):\n",
    "    m = y.size\n",
    "    one_hot_y = one_hot(y)\n",
    "    dz2 = a2 - one_hot_y\n",
    "    dw2 = 1 / m * dz2.dot(a1.T)\n",
    "    db2 = 1 / m * np.sum(dz2)\n",
    "    dz1 = w2.T.dot(dz2) * deriv_swish(z1) #Like applying weights in reverse\n",
    "    dw1 = 1 / m * dz1.dot(x.T) # Remember the derivation of dz1/dw1 is just the activation of last layer, or the input in this case.\n",
    "    db1 = 1 / m * np.sum(dz1) #1 represents the column wise sum.\n",
    "    return dw1, db1, dw2, db2"
   ],
   "metadata": {
    "collapsed": false
   }
  },
  {
   "cell_type": "code",
   "execution_count": 26,
   "outputs": [],
   "source": [
    "def update_params(w1, b1, w2, b2, dw1, db1, dw2, db2, alpha):\n",
    "    w1 = w1 - alpha * dw1\n",
    "    b1 = b1 - alpha * db1\n",
    "    w2 = w2 - alpha * dw2\n",
    "    b2 = b2 - alpha * db2\n",
    "    return w1, b1, w2, b2"
   ],
   "metadata": {
    "collapsed": false
   }
  },
  {
   "cell_type": "code",
   "execution_count": 27,
   "outputs": [],
   "source": [
    "def get_predictions(a2):\n",
    "    # Fine to use argmax as it returns the index, class label and index are the same.\n",
    "    return np.argmax(a2, 0)\n",
    "\n",
    "def get_accuracy(predictions, y):\n",
    "    print(predictions, y)\n",
    "    return np.sum(predictions == y) / y.size\n",
    "\n",
    "def gradient_descent(x, y, iterations, alpha):\n",
    "    w1, b1, w2, b2 = init_params()\n",
    "    for i in range(iterations):\n",
    "        z1, a1, z2, a2 = forward_prop(w1, b1, w2, b2, x)\n",
    "        dw1, db1, dw2, db2 = backprop(z1, a1, z2, a2, w2, x, y)\n",
    "        w1, b1, w2, b2 = update_params(w1, b1, w2, b2, dw1, db1, dw2, db2, alpha)\n",
    "        if i % 50 == 0:\n",
    "            print(\"Iteration: \", i)\n",
    "            print(\"Accuracy: \", get_accuracy(get_predictions(a2), y))\n",
    "    return w1, b1, w2, b2"
   ],
   "metadata": {
    "collapsed": false
   }
  },
  {
   "cell_type": "code",
   "execution_count": 28,
   "outputs": [
    {
     "name": "stdout",
     "output_type": "stream",
     "text": [
      "Iteration:  0\n",
      "[9 9 9 ... 9 9 9] [2 9 7 ... 6 8 4]\n",
      "Accuracy:  0.09888135593220339\n",
      "Iteration:  50\n",
      "[2 9 7 ... 6 8 4] [2 9 7 ... 6 8 4]\n",
      "Accuracy:  0.5990338983050848\n",
      "Iteration:  100\n",
      "[2 9 7 ... 6 8 4] [2 9 7 ... 6 8 4]\n",
      "Accuracy:  0.7655254237288136\n",
      "Iteration:  150\n",
      "[2 9 7 ... 6 8 4] [2 9 7 ... 6 8 4]\n",
      "Accuracy:  0.8254067796610169\n",
      "Iteration:  200\n",
      "[2 9 7 ... 6 8 4] [2 9 7 ... 6 8 4]\n",
      "Accuracy:  0.8511694915254238\n",
      "Iteration:  250\n",
      "[2 9 7 ... 6 8 4] [2 9 7 ... 6 8 4]\n",
      "Accuracy:  0.8669830508474576\n",
      "Iteration:  300\n",
      "[2 9 7 ... 6 8 4] [2 9 7 ... 6 8 4]\n",
      "Accuracy:  0.8772881355932204\n",
      "Iteration:  350\n",
      "[2 9 7 ... 6 8 4] [2 9 7 ... 6 8 4]\n",
      "Accuracy:  0.8843898305084745\n",
      "Iteration:  400\n",
      "[2 9 7 ... 6 8 4] [2 9 7 ... 6 8 4]\n",
      "Accuracy:  0.8901694915254237\n",
      "Iteration:  450\n",
      "[2 9 7 ... 6 8 4] [2 9 7 ... 6 8 4]\n",
      "Accuracy:  0.8944745762711864\n"
     ]
    }
   ],
   "source": [
    "w1, b1, w2, b2 = gradient_descent(x_train, y_train, 500, .1)"
   ],
   "metadata": {
    "collapsed": false
   }
  },
  {
   "cell_type": "code",
   "execution_count": 29,
   "outputs": [],
   "source": [
    "def make_predictions(x, w1, b1, w2, b2):\n",
    "    _, _, _, a2 = forward_prop(w1, b1, w2, b2, x)\n",
    "    predictions = get_predictions(a2)\n",
    "    return predictions"
   ],
   "metadata": {
    "collapsed": false
   }
  },
  {
   "cell_type": "code",
   "execution_count": 30,
   "outputs": [],
   "source": [
    "def test_predictions(index, w1, b1, w2, b2):\n",
    "    current_image = x_train[:, index, None]\n",
    "    #print(current_image)\n",
    "    prediction = make_predictions(current_image, w1, b1, w2, b2)\n",
    "    label = y_train[index]\n",
    "    print(\"Prediction: \", prediction)\n",
    "    print(\"Label: \", label)\n",
    "\n",
    "    current_image = current_image.reshape((28, 28)) * 255\n",
    "    plt.gray()\n",
    "    plt.imshow(current_image, interpolation=\"nearest\")\n",
    "    plt.show()\n"
   ],
   "metadata": {
    "collapsed": false
   }
  },
  {
   "cell_type": "code",
   "execution_count": 31,
   "outputs": [
    {
     "name": "stdout",
     "output_type": "stream",
     "text": [
      "Prediction:  [1]\n",
      "Label:  1\n"
     ]
    },
    {
     "data": {
      "text/plain": "<Figure size 640x480 with 1 Axes>",
      "image/png": "[encoded data removed]"
     },
     "metadata": {},
     "output_type": "display_data"
    }
   ],
   "source": [
    "test_predictions(11025, w1, b1, w2, b2)"
   ],
   "metadata": {
    "collapsed": false
   }
  },
  {
   "cell_type": "code",
   "execution_count": 32,
   "outputs": [
    {
     "name": "stdout",
     "output_type": "stream",
     "text": [
      "[3 1 3 5 1 2 0 6 7 5 0 1 7 8 0 9 0 6 0 1 4 2 0 2 8 4 5 0 4 3 9 8 2 0 7 9 8\n",
      " 9 8 7 2 7 5 5 4 9 9 2 4 7 2 6 5 4 9 9 1 9 7 6 1 6 6 7 9 1 5 1 6 7 2 0 9 4\n",
      " 1 4 4 3 4 8 8 5 9 9 3 1 4 7 9 0 0 9 9 4 7 5 3 7 1 2 3 6 6 1 3 4 7 5 4 7 9\n",
      " 9 7 1 1 3 2 6 6 7 4 7 1 2 6 7 5 5 7 3 8 2 6 2 0 3 5 4 7 7 2 9 8 1 7 1 3 2\n",
      " 0 0 7 8 0 3 1 0 5 1 8 6 7 7 3 5 0 2 6 2 0 8 2 2 5 8 2 6 7 7 1 9 1 0 1 5 3\n",
      " 7 2 9 6 9 5 8 1 2 5 9 2 9 6 8 2 7 0 1 7 9 8 7 9 3 2 1 4 9 0 2 9 6 8 1 5 4\n",
      " 1 3 1 6 6 9 1 9 9 6 8 6 0 3 7 8 8 0 4 6 6 9 6 7 0 2 3 9 0 2 6 3 0 3 2 0 7\n",
      " 5 6 6 4 0 4 7 8 3 5 8 3 5 4 3 0 2 1 2 0 3 5 3 7 3 9 6 4 8 4 4 5 0 7 9 8 1\n",
      " 0 8 7 0 8 5 7 7 8 9 3 5 6 2 3 5 4 2 3 7 4 8 3 2 9 7 7 8 7 8 8 8 0 4 2 9 3\n",
      " 8 4 3 0 1 8 6 7 3 6 8 9 6 5 9 2 1 6 2 7 0 4 1 4 5 2 4 0 5 9 4 8 2 0 9 1 7\n",
      " 7 5 6 3 0 7 9 0 4 6 6 1 7 6 9 0 1 6 3 2 7 3 4 1 9 9 4 0 8 0 6 2 1 4 1 4 8\n",
      " 0 3 9 7 2 3 5 9 2 4 0 8 6 5 9 6 0 8 4 9 4 1 9 7 1 0 6 2 6 2 2 2 2 9 7 5 1\n",
      " 4 8 9 2 6 6 9 4 1 8 1 0 6 9 3 2 0 6 1 7 6 4 4 3 1 7 7 2 8 9 3 0 8 8 8 8 8\n",
      " 6 4 8 8 1 8 1 2 6 5 3 3 0 0 0 5 0 9 5 6 4 6 9 1 6 7 3 7 5 8 1 9 4 9 2 0 6\n",
      " 2 0 4 1 1 3 7 8 7 2 0 3 4 3 5 8 6 0 0 4 0 6 9 4 9 8 5 4 6 2 4 5 0 0 7 1 5\n",
      " 4 8 0 2 7 6 8 0 5 7 8 2 3 8 1 7 2 7 3 4 6 7 3 3 2 7 5 0 9 6 1 3 2 2 6 0 0\n",
      " 7 9 4 1 2 7 5 2 4 1 0 5 0 7 0 7 7 9 0 1 6 8 9 0 9 8 3 1 3 1 2 4 2 7 7 2 2\n",
      " 5 7 9 7 0 9 7 4 4 6 9 3 0 4 3 9 1 5 4 5 7 9 3 9 7 7 6 5 3 2 8 7 6 1 0 2 4\n",
      " 1 1 8 2 2 5 5 4 4 2 1 7 6 9 4 3 2 5 2 9 3 8 2 7 5 1 3 5 2 6 7 9 7 8 9 3 9\n",
      " 9 6 6 9 3 4 0 8 8 8 1 4 3 2 4 9 9 6 0 9 5 8 0 3 1 8 3 8 6 6 3 2 6 6 4 3 9\n",
      " 9 2 7 7 6 9 7 2 6 7 2 6 9 6 0 4 5 9 6 7 2 7 2 7 0 2 1 0 2 6 0 1 8 1 3 6 2\n",
      " 3 3 2 4 9 9 6 6 4 6 7 8 1 0 5 0 3 6 6 2 8 1 0 6 4 5 0 8 0 5 1 1 3 6 3 5 8\n",
      " 1 6 1 7 9 9 4 9 2 8 8 3 6 6 3 4 0 7 7 0 7 2 9 9 3 1 4 5 3 8 0 7 1 8 0 4 8\n",
      " 8 7 8 3 9 1 4 9 3 9 2 2 9 3 6 8 3 0 5 5 8 4 7 6 3 8 3 1 1 8 1 6 4 6 0 8 6\n",
      " 4 9 3 3 4 9 1 0 4 0 8 3 4 4 8 9 7 5 0 5 7 4 4 8 5 7 4 9 1 4 6 5 6 2 0 5 9\n",
      " 9 2 7 8 3 8 8 3 4 5 5 9 0 4 3 7 4 6 6 0 0 0 5 3 1 1 4 2 6 3 9 8 8 1 0 4 3\n",
      " 3 0 0 8 4 4 8 6 4 9 3 4 3 1 7 1 8 5 9 3 8 5 4 7 0 2 3 0 9 2 6 2 9 3 9 4 7\n",
      " 4] [3 1 3 5 1 6 0 6 7 5 0 1 7 8 0 5 0 6 0 1 4 2 0 2 8 4 5 0 4 3 9 3 2 0 7 5 8\n",
      " 9 8 7 2 7 5 0 4 9 9 2 4 9 2 6 5 4 9 9 1 9 7 6 2 6 6 7 9 1 5 1 6 7 3 0 9 4\n",
      " 1 4 4 3 4 8 8 5 5 9 3 1 4 9 9 8 0 9 9 4 7 5 3 7 1 2 8 6 6 6 3 4 7 5 4 7 9\n",
      " 9 7 1 1 3 2 0 6 2 4 7 1 4 6 7 5 5 7 3 8 2 6 2 0 3 5 4 9 7 2 9 8 1 7 1 3 2\n",
      " 0 0 7 8 0 3 1 0 5 1 8 6 7 7 3 5 0 8 6 2 0 8 2 2 5 8 2 6 7 7 1 5 8 0 8 5 3\n",
      " 7 2 9 6 9 5 8 1 2 5 9 2 9 6 8 2 7 0 1 7 9 8 7 9 3 2 1 4 9 0 9 9 6 8 1 3 4\n",
      " 1 3 1 6 6 9 1 9 9 6 8 6 0 3 7 8 8 0 4 6 4 9 6 7 0 2 3 9 0 2 6 8 0 3 2 0 7\n",
      " 5 6 6 4 0 4 7 8 3 0 8 3 5 4 3 0 2 1 2 0 3 5 3 7 3 9 6 4 8 4 4 5 0 7 4 8 1\n",
      " 0 8 7 0 5 5 7 7 8 9 3 5 6 2 3 5 4 3 3 7 4 8 3 2 9 7 7 8 7 8 8 8 0 4 2 9 3\n",
      " 8 4 3 0 1 8 6 7 8 6 8 9 6 5 9 2 1 6 2 7 0 7 1 4 5 2 4 0 5 9 4 8 2 0 9 1 7\n",
      " 7 5 9 3 0 7 8 0 2 6 6 1 7 6 9 0 1 6 3 2 7 3 4 1 9 9 4 0 8 0 6 2 1 2 1 4 8\n",
      " 0 3 9 7 5 3 5 9 2 4 0 8 6 5 9 6 6 8 4 9 9 1 9 9 1 0 6 2 6 2 2 2 9 2 7 5 1\n",
      " 4 8 9 0 6 6 5 4 1 8 1 0 6 9 3 2 0 6 1 7 6 7 4 3 1 7 7 2 8 9 3 0 8 8 8 8 8\n",
      " 6 4 8 8 1 2 1 2 6 8 3 3 0 0 0 5 0 8 5 6 4 6 9 1 6 7 3 7 5 8 1 9 4 9 2 0 6\n",
      " 2 0 4 1 1 3 7 8 2 2 0 3 4 3 5 8 6 0 0 4 0 6 9 4 9 8 5 4 6 2 4 0 0 0 7 1 5\n",
      " 4 8 0 2 7 6 2 0 5 7 8 2 3 8 1 7 2 7 8 4 6 7 3 3 2 7 5 0 9 6 1 3 2 2 6 0 0\n",
      " 7 9 6 1 2 7 5 3 4 1 0 5 0 7 0 7 3 9 0 1 6 8 9 0 9 8 1 1 3 1 2 4 4 7 7 2 2\n",
      " 5 7 9 7 0 5 0 4 4 6 9 3 0 4 3 9 1 5 4 5 7 9 2 9 7 7 6 5 3 2 8 7 6 1 0 2 4\n",
      " 1 1 8 7 2 5 5 4 4 2 1 7 6 9 4 3 3 8 3 9 3 8 2 7 5 1 3 5 2 6 7 9 7 8 9 3 9\n",
      " 9 6 6 9 9 4 0 8 2 8 7 4 3 2 4 9 9 6 0 8 8 8 0 3 1 5 3 8 6 2 3 2 6 6 4 3 9\n",
      " 9 2 7 7 6 9 7 2 2 7 2 6 9 6 0 4 5 9 6 7 2 7 2 7 0 2 8 0 2 6 0 1 8 1 3 6 3\n",
      " 3 3 2 4 9 9 0 6 4 6 7 8 1 0 5 2 3 6 6 2 8 1 5 8 4 5 0 8 0 5 1 1 3 6 5 5 8\n",
      " 1 6 1 7 9 0 4 9 2 8 8 3 6 6 3 4 0 7 7 0 7 2 9 9 2 1 4 5 9 8 0 7 8 4 0 4 8\n",
      " 8 7 5 5 9 1 4 9 3 9 2 2 9 3 6 8 3 0 3 5 8 4 9 6 3 5 3 1 1 8 1 6 9 6 0 8 6\n",
      " 4 9 2 5 4 9 3 0 4 0 8 3 4 9 8 9 9 6 0 0 7 4 4 8 5 7 2 9 1 4 6 5 6 2 0 5 9\n",
      " 9 2 7 8 3 8 5 5 4 9 5 9 5 4 3 7 4 6 6 0 0 0 5 3 1 1 4 2 6 3 9 3 8 1 0 4 3\n",
      " 3 0 0 8 4 4 8 6 4 9 3 4 3 1 7 1 3 5 9 3 8 5 4 7 0 2 3 0 9 3 6 2 9 3 9 4 7\n",
      " 4]\n"
     ]
    },
    {
     "data": {
      "text/plain": "0.896"
     },
     "execution_count": 32,
     "metadata": {},
     "output_type": "execute_result"
    }
   ],
   "source": [
    "dev_predictions = make_predictions(x_dev, w1, b1, w2, b2)\n",
    "get_accuracy(dev_predictions, y_dev)"
   ],
   "metadata": {
    "collapsed": false
   }
  },
  {
   "cell_type": "code",
   "execution_count": null,
   "outputs": [],
   "source": [],
   "metadata": {
    "collapsed": false
   }
  }
 ],
 "metadata": {
  "kernelspec": {
   "display_name": "Python 3",
   "language": "python",
   "name": "python3"
  },
  "language_info": {
   "codemirror_mode": {
    "name": "ipython",
    "version": 2
   },
   "file_extension": ".py",
   "mimetype": "text/x-python",
   "name": "python",
   "nbconvert_exporter": "python",
   "pygments_lexer": "ipython2",
   "version": "2.7.6"
  }
 },
 "nbformat": 4,
 "nbformat_minor": 0
}
